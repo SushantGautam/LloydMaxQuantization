{
 "cells": [
  {
   "cell_type": "code",
   "execution_count": 1,
   "metadata": {
    "ExecuteTime": {
     "end_time": "2020-10-01T16:58:56.166311Z",
     "start_time": "2020-10-01T16:58:56.161308Z"
    }
   },
   "outputs": [],
   "source": [
    "import numpy as np\n",
    "import random\n",
    "import matplotlib.pyplot as plt\n",
    "import math\n",
    "import scipy.integrate as integrate"
   ]
  },
  {
   "attachments": {
    "image.png": {
     "image/png": "[encoded data removed]"
    }
   },
   "cell_type": "markdown",
   "metadata": {
    "ExecuteTime": {
     "end_time": "2020-10-01T15:54:30.419558Z",
     "start_time": "2020-10-01T15:54:30.401590Z"
    }
   },
   "source": [
    "The general form of its probability density function is:\n",
    "![image.png](attachment:image.png)"
   ]
  },
  {
   "cell_type": "code",
   "execution_count": 2,
   "metadata": {
    "ExecuteTime": {
     "end_time": "2020-10-01T16:58:57.276473Z",
     "start_time": "2020-10-01T16:58:57.269437Z"
    }
   },
   "outputs": [],
   "source": [
    "def normal_dist(x, mean=0.0, vari=1.0):\n",
    "    \"\"\"A normal distribution function\n",
    "    \"\"\"\n",
    "    return (1.0/(np.sqrt(2.0*np.pi*vari)))*np.exp((-np.power((x-mean),2.0))/(2.0*vari))\n",
    "\n",
    "def MSEintegrand(x, yVal):\n",
    "    return  ((x- yVal)**2) * normal_dist(x)\n",
    "\n",
    "def integrand2(x):\n",
    "    return  x * normal_dist(x)\n",
    "\n",
    "def integrand3(x):\n",
    "    return  normal_dist(x)\n",
    "\n",
    "def UniformQuantizer(x):\n",
    "    return [{\"from\": x[i], \"to\": x[i+1], \"value\":( x[i]+ x[i+1])/2, } for i in range(len(x)-1)]\n",
    "\n",
    "\n",
    "def LyoidMax(xorg, yor):\n",
    "    threshold = 0.0001\n",
    "#     print(\"xorg, yorg\", xorg, yor)\n",
    "    b, sigma= None, 10000\n",
    "    b=  [x[i] for i in  range(len(x))] # original boundary value\n",
    "    y=  [(b[i]+ b[i+1])/2+0.0000001 for i in  range(len(x)-1)] #temp y values\n",
    "#     print(\"len(y)  b\", len(y), len(b), y, b)\n",
    "\n",
    "    while True:\n",
    "        for i in  range(0, len(b)-2):\n",
    "            b[i]= (y[i]+ y[i+1])/2 \n",
    "#         print(\"updated B\", b)\n",
    "        sigma = sum([integrate.quad(MSEintegrand, b[i], b[i+1], y[i])[0] for i in range(len(x)-1)])\n",
    "#         print(\"sigma: \", sigma, y)\n",
    "        if sigma < threshold: print('break'); break\n",
    "        y=[]\n",
    "        for i in range(len(x)-1):\n",
    "#             print(integrate.quad( integrand3, b[i], b[i+1],)[0], b[i], b[i+1] )\n",
    "            y.append(integrate.quad( integrand2, b[i], b[i+1],)[0]\\\n",
    "                                     /integrate.quad( integrand3, b[i], b[i+1],)[0])\n",
    "    \n",
    "    toReturn=[]\n",
    "    for e in y:\n",
    "        toReturn.append({\"value\":e , \"from\":b[i] , \"to\":b[i+1]})\n",
    "           \n",
    "    return toReturn, b, [normal_dist(e) for e in b]"
   ]
  },
  {
   "cell_type": "code",
   "execution_count": 3,
   "metadata": {
    "ExecuteTime": {
     "end_time": "2020-10-01T16:58:57.487022Z",
     "start_time": "2020-10-01T16:58:57.459022Z"
    }
   },
   "outputs": [],
   "source": [
    "Data =[]\n",
    "for i in range(5, 20, 1):\n",
    "    M=i #Number of quantization levels\n",
    "    Xmin, Xmax = -4, 4\n",
    "    x= np.linspace(Xmin,Xmax, M ) #evenly spaced M samples over a specified interval.\n",
    "    y = [normal_dist(i) for i in np.linspace(Xmin,Xmax, M )] #  #quant levels\n",
    "    yqant = UniformQuantizer(x) #quantized data\n",
    "#     yqant,x, y = LyoidMax(x, y)    ; \n",
    "#     y= [v['value'] for v in yqant#y, b\n",
    "    QuantError = sum([integrate.quad(MSEintegrand, v['from'], v['to'],v['value'] )[0] for v in yqant])\n",
    "    Data.append({\"error\" :QuantError, \"M\": M})\n",
    "    \n",
    "    if M==15:\n",
    "        plt.plot(np.linspace(Xmin,Xmax, 1000 ),  [normal_dist(i) for i in np.linspace(Xmin,Xmax, 1000 )]) #gaussian curve\n",
    "        for i in x: plt.axvline(x=i, color=\"red\", linewidth=0.5) # horizontal lines representing levels\n",
    "        plt.plot(x, y) # reconstructed graph\n",
    "        for i in yqant: plt.hlines(y = normal_dist(i['value']), xmin = i['from'], xmax = i['to'], color=\"green\")   #quant level\n",
    "        plt.xlabel('x - axis')\n",
    "        plt.ylabel('y - axis')\n",
    "        plt.title('Line graph!')\n",
    "        plt.show()"
   ]
  },
  {
   "cell_type": "code",
   "execution_count": 4,
   "metadata": {},
   "outputs": [],
   "source": [
    "plt.plot([e['M'] for e in Data], [e['error'] for e in Data])\n",
    "plt.xlabel('No of Levels')\n",
    "plt.ylabel('Quantization Error')\n",
    "plt.title('Bins vs Errors')\n",
    "Data\n",
    "plt.show()"
   ]
  },
  {
   "cell_type": "code",
   "execution_count": null,
   "metadata": {},
   "outputs": [],
   "source": []
  },
  {
   "cell_type": "code",
   "execution_count": null,
   "metadata": {},
   "outputs": [],
   "source": []
  },
  {
   "cell_type": "code",
   "execution_count": null,
   "metadata": {},
   "outputs": [],
   "source": []
  }
 ],
 "metadata": {
  "kernelspec": {
   "display_name": "Python 3.6 (XPython)",
   "language": "python",
   "name": "xpython"
  },
  "language_info": {
   "file_extension": ".py",
   "mimetype": "text/x-python",
   "name": "python",
   "version": "3.6.11"
  },
  "varInspector": {
   "cols": {
    "lenName": 16,
    "lenType": 16,
    "lenVar": 40
   },
   "kernels_config": {
    "python": {
     "delete_cmd_postfix": "",
     "delete_cmd_prefix": "del ",
     "library": "var_list.py",
     "varRefreshCmd": "print(var_dic_list())"
    },
    "r": {
     "delete_cmd_postfix": ") ",
     "delete_cmd_prefix": "rm(",
     "library": "var_list.r",
     "varRefreshCmd": "cat(var_dic_list()) "
    }
   },
   "position": {
    "height": "158.511px",
    "left": "565.364px",
    "right": "20px",
    "top": "13px",
    "width": "602px"
   },
   "types_to_exclude": [
    "module",
    "function",
    "builtin_function_or_method",
    "instance",
    "_Feature"
   ],
   "window_display": false
  }
 },
 "nbformat": 4,
 "nbformat_minor": 4
}
